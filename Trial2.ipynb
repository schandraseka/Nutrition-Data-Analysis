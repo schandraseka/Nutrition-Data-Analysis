{
 "cells": [
  {
   "cell_type": "code",
   "execution_count": 15,
   "metadata": {},
   "outputs": [],
   "source": [
    "__author__ = \"Siddharth Chandrasekaran\"\n",
    "__license__ = \"GPL\"\n",
    "__version__ = \"1.0.1\"\n",
    "__email__ = \"schandraseka@umass.edu\"\n",
    "\n",
    "\n",
    "from bokeh.core.properties import field\n",
    "from bokeh.io import curdoc\n",
    "from bokeh.layouts import layout\n",
    "from bokeh.models import (ColumnDataSource, HoverTool, SingleIntervalTicker, Slider, CategoricalColorMapper, Button, FactorRange, LinearColorMapper, ColorBar, LogColorMapper)\n",
    "from bokeh.palettes import Category10, Category20, Plasma256, Paired, linear_palette, Viridis256,Greys256\n",
    "from bokeh.plotting import figure\t\n",
    "from bokeh.io import output_notebook\n",
    "from bokeh.charts import HeatMap, show, bins\n",
    "import numpy as np\n",
    "import pandas as pd\n",
    "from IPython.display import display\n",
    "from sklearn.model_selection import train_test_split\n",
    "from sklearn import datasets\n",
    "from sklearn import svm\n",
    "from sklearn.model_selection import cross_val_score\n",
    "from sklearn.model_selection import KFold\n",
    "from sklearn.neighbors import kneighbors_graph\n",
    "from sklearn import cluster\n",
    "from bokeh.palettes import Spectral6\n",
    "from bokeh.transform import factor_cmap\n",
    "from bokeh.layouts import widgetbox\n",
    "from bokeh.models.widgets import Button, RadioButtonGroup, Select, Slider\n",
    "from functools import partial\n",
    "from bokeh.models.widgets import DataTable\n",
    "from bokeh.models.glyphs import HBar\n",
    "from sklearn import linear_model\n",
    "from itertools import product\n",
    "from sklearn.ensemble import ExtraTreesClassifier\n",
    "from sklearn.tree import DecisionTreeClassifier\n",
    "import time\n",
    "\n",
    "data = pd.read_csv(\"nutrition_raw_anonymized_data.csv\")\n",
    "data.replace(('Innie', 'Outie'), ('No', 'Yes'), inplace=True)\n",
    "\n",
    "diseases = data.iloc[:,1:4].replace(('No', 'Yes'), (0, 1))\n",
    "#display(diseases)\n",
    "characteristics = data.iloc[:,5:27].replace(('No', 'Yes'), (0, 1))\n",
    "#display(habits)\n",
    "foodhabits = data.iloc[:,28:1093]\n",
    "#display(foodhabits)"
   ]
  },
  {
   "cell_type": "code",
   "execution_count": 27,
   "metadata": {},
   "outputs": [
    {
     "name": "stdout",
     "output_type": "stream",
     "text": [
      "Starting : {'criterion': 'gini'}\n",
      "--- 0.028408050537109375 seconds ---\n",
      "Starting : {'criterion': 'entropy'}\n",
      "--- 0.04993391036987305 seconds ---\n",
      "{'criterion': 'entropy'}\n"
     ]
    },
    {
     "data": {
      "text/plain": [
       "0.27398922738367693"
      ]
     },
     "metadata": {},
     "output_type": "display_data"
    }
   ],
   "source": [
    "-"
   ]
  },
  {
   "cell_type": "code",
   "execution_count": null,
   "metadata": {
    "collapsed": true
   },
   "outputs": [],
   "source": []
  }
 ],
 "metadata": {
  "kernelspec": {
   "display_name": "Python 3",
   "language": "python",
   "name": "python3"
  },
  "language_info": {
   "codemirror_mode": {
    "name": "ipython",
    "version": 3
   },
   "file_extension": ".py",
   "mimetype": "text/x-python",
   "name": "python",
   "nbconvert_exporter": "python",
   "pygments_lexer": "ipython3",
   "version": "3.6.1"
  }
 },
 "nbformat": 4,
 "nbformat_minor": 2
}
